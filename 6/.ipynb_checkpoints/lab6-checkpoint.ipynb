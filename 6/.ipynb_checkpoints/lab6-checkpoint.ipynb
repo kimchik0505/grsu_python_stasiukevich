{
 "cells": [
  {
   "cell_type": "markdown",
   "metadata": {},
   "source": [
    "# Лабораторная работа 6. Основы анализа данных Pandas. "
   ]
  },
  {
   "cell_type": "markdown",
   "metadata": {
    "collapsed": true
   },
   "source": [
    "Создайте таблицу"
   ]
  },
  {
   "cell_type": "code",
   "execution_count": 2,
   "metadata": {},
   "outputs": [],
   "source": [
    "tab = [[3, 1, 2], [4, 5, 6]]"
   ]
  },
  {
   "cell_type": "markdown",
   "metadata": {},
   "source": [
    "Выведите первую строку:"
   ]
  },
  {
   "cell_type": "code",
   "execution_count": 5,
   "metadata": {},
   "outputs": [
    {
     "name": "stdout",
     "output_type": "stream",
     "text": [
      "[3, 1, 2]\n"
     ]
    }
   ],
   "source": [
    "print(tab[0])"
   ]
  },
  {
   "cell_type": "markdown",
   "metadata": {},
   "source": [
    "Подключим библиотеку Pandas"
   ]
  },
  {
   "cell_type": "code",
   "execution_count": 4,
   "metadata": {},
   "outputs": [],
   "source": [
    "import pandas as pd"
   ]
  },
  {
   "cell_type": "markdown",
   "metadata": {},
   "source": [
    "Давайте сделаем dataframe из нашей таблицы."
   ]
  },
  {
   "cell_type": "code",
   "execution_count": 3,
   "metadata": {},
   "outputs": [
    {
     "ename": "NameError",
     "evalue": "name 'table' is not defined",
     "output_type": "error",
     "traceback": [
      "\u001b[0;31m---------------------------------------------------------------------------\u001b[0m",
      "\u001b[0;31mNameError\u001b[0m                                 Traceback (most recent call last)",
      "\u001b[0;32m<ipython-input-3-2148b985d4fa>\u001b[0m in \u001b[0;36m<module>\u001b[0;34m()\u001b[0m\n\u001b[0;32m----> 1\u001b[0;31m \u001b[0mdf\u001b[0m \u001b[1;33m=\u001b[0m \u001b[0mpd\u001b[0m\u001b[1;33m.\u001b[0m\u001b[0mDataFrame\u001b[0m\u001b[1;33m(\u001b[0m\u001b[0mtable\u001b[0m\u001b[1;33m)\u001b[0m\u001b[1;33m\u001b[0m\u001b[0m\n\u001b[0m",
      "\u001b[0;31mNameError\u001b[0m: name 'table' is not defined"
     ]
    }
   ],
   "source": [
    "df = pd.DataFrame(table)"
   ]
  },
  {
   "cell_type": "code",
   "execution_count": null,
   "metadata": {},
   "outputs": [],
   "source": [
    "df"
   ]
  },
  {
   "cell_type": "markdown",
   "metadata": {},
   "source": [
    "Выведите первый столбец с заголовками."
   ]
  },
  {
   "cell_type": "code",
   "execution_count": null,
   "metadata": {
    "collapsed": true
   },
   "outputs": [],
   "source": []
  },
  {
   "cell_type": "markdown",
   "metadata": {},
   "source": [
    "Выведите первую строку с заголовками."
   ]
  },
  {
   "cell_type": "code",
   "execution_count": null,
   "metadata": {
    "collapsed": true
   },
   "outputs": [],
   "source": []
  },
  {
   "cell_type": "markdown",
   "metadata": {},
   "source": [
    "Выведите вторую строку. "
   ]
  },
  {
   "cell_type": "code",
   "execution_count": null,
   "metadata": {
    "collapsed": true
   },
   "outputs": [],
   "source": []
  },
  {
   "cell_type": "markdown",
   "metadata": {},
   "source": [
    "Загрузим файл в Pandas. Выведите результат."
   ]
  },
  {
   "cell_type": "code",
   "execution_count": 4,
   "metadata": {},
   "outputs": [
    {
     "data": {
      "text/html": [
       "<div>\n",
       "<table border=\"1\" class=\"dataframe\">\n",
       "  <thead>\n",
       "    <tr style=\"text-align: right;\">\n",
       "      <th></th>\n",
       "      <th>task</th>\n",
       "      <th>group10</th>\n",
       "      <th>group2</th>\n",
       "      <th>group3</th>\n",
       "      <th>group4</th>\n",
       "    </tr>\n",
       "  </thead>\n",
       "  <tbody>\n",
       "    <tr>\n",
       "      <th>0</th>\n",
       "      <td>python</td>\n",
       "      <td>1.0</td>\n",
       "      <td>2.0</td>\n",
       "      <td>3.0</td>\n",
       "      <td>2.0</td>\n",
       "    </tr>\n",
       "    <tr>\n",
       "      <th>1</th>\n",
       "      <td>c++</td>\n",
       "      <td>2.3</td>\n",
       "      <td>1.2</td>\n",
       "      <td>2.2</td>\n",
       "      <td>1.2</td>\n",
       "    </tr>\n",
       "    <tr>\n",
       "      <th>2</th>\n",
       "      <td>c#</td>\n",
       "      <td>2.1</td>\n",
       "      <td>2.3</td>\n",
       "      <td>2.3</td>\n",
       "      <td>2.2</td>\n",
       "    </tr>\n",
       "    <tr>\n",
       "      <th>3</th>\n",
       "      <td>java</td>\n",
       "      <td>4.0</td>\n",
       "      <td>2.5</td>\n",
       "      <td>2.5</td>\n",
       "      <td>1.2</td>\n",
       "    </tr>\n",
       "    <tr>\n",
       "      <th>4</th>\n",
       "      <td>php</td>\n",
       "      <td>6.0</td>\n",
       "      <td>5.0</td>\n",
       "      <td>4.0</td>\n",
       "      <td>5.0</td>\n",
       "    </tr>\n",
       "  </tbody>\n",
       "</table>\n",
       "</div>"
      ],
      "text/plain": [
       "     task   group10  group2  group3  group4\n",
       "0  python       1.0     2.0     3.0     2.0\n",
       "1     c++       2.3     1.2     2.2     1.2\n",
       "2      c#       2.1     2.3     2.3     2.2\n",
       "3    java       4.0     2.5     2.5     1.2\n",
       "4     php       6.0     5.0     4.0     5.0"
      ]
     },
     "execution_count": 4,
     "metadata": {},
     "output_type": "execute_result"
    }
   ],
   "source": [
    "df = pd.read_csv(\n",
    "    \"lab6_1.csv\"\n",
    ")\n",
    "df"
   ]
  },
  {
   "cell_type": "markdown",
   "metadata": {},
   "source": [
    "Верхняя строчка выделена полужирным т.к. рассматривается не как строчка с данными, а как строчка с именами столбцов. К столбцам можно обращаться по имени. Обратитесь к столбцу \"group10\""
   ]
  },
  {
   "cell_type": "code",
   "execution_count": 5,
   "metadata": {},
   "outputs": [
    {
     "data": {
      "text/plain": [
       "0    1.0\n",
       "1    2.3\n",
       "2    2.1\n",
       "3    4.0\n",
       "4    6.0\n",
       "Name:  group10, dtype: float64"
      ]
     },
     "execution_count": 5,
     "metadata": {},
     "output_type": "execute_result"
    }
   ],
   "source": [
    "de = df[' group10']\n",
    "de"
   ]
  },
  {
   "cell_type": "markdown",
   "metadata": {},
   "source": [
    "У строк по умолчанию нет имён, и им присваивются номера (левая полужирная колонка). Можно загрузить файл таким образом, чтобы первый столбец рассматривался как столбец с именами строк."
   ]
  },
  {
   "cell_type": "code",
   "execution_count": 6,
   "metadata": {
    "collapsed": true
   },
   "outputs": [],
   "source": [
    "df = pd.read_csv(\n",
    "    \"lab6_1.csv\",\n",
    "    index_col=0\n",
    ")"
   ]
  },
  {
   "cell_type": "code",
   "execution_count": 7,
   "metadata": {},
   "outputs": [
    {
     "data": {
      "text/html": [
       "<div>\n",
       "<table border=\"1\" class=\"dataframe\">\n",
       "  <thead>\n",
       "    <tr style=\"text-align: right;\">\n",
       "      <th></th>\n",
       "      <th>group10</th>\n",
       "      <th>group2</th>\n",
       "      <th>group3</th>\n",
       "      <th>group4</th>\n",
       "    </tr>\n",
       "    <tr>\n",
       "      <th>task</th>\n",
       "      <th></th>\n",
       "      <th></th>\n",
       "      <th></th>\n",
       "      <th></th>\n",
       "    </tr>\n",
       "  </thead>\n",
       "  <tbody>\n",
       "    <tr>\n",
       "      <th>python</th>\n",
       "      <td>1.0</td>\n",
       "      <td>2.0</td>\n",
       "      <td>3.0</td>\n",
       "      <td>2.0</td>\n",
       "    </tr>\n",
       "    <tr>\n",
       "      <th>c++</th>\n",
       "      <td>2.3</td>\n",
       "      <td>1.2</td>\n",
       "      <td>2.2</td>\n",
       "      <td>1.2</td>\n",
       "    </tr>\n",
       "    <tr>\n",
       "      <th>c#</th>\n",
       "      <td>2.1</td>\n",
       "      <td>2.3</td>\n",
       "      <td>2.3</td>\n",
       "      <td>2.2</td>\n",
       "    </tr>\n",
       "    <tr>\n",
       "      <th>java</th>\n",
       "      <td>4.0</td>\n",
       "      <td>2.5</td>\n",
       "      <td>2.5</td>\n",
       "      <td>1.2</td>\n",
       "    </tr>\n",
       "    <tr>\n",
       "      <th>php</th>\n",
       "      <td>6.0</td>\n",
       "      <td>5.0</td>\n",
       "      <td>4.0</td>\n",
       "      <td>5.0</td>\n",
       "    </tr>\n",
       "  </tbody>\n",
       "</table>\n",
       "</div>"
      ],
      "text/plain": [
       "         group10  group2  group3  group4\n",
       "task                                    \n",
       "python       1.0     2.0     3.0     2.0\n",
       "c++          2.3     1.2     2.2     1.2\n",
       "c#           2.1     2.3     2.3     2.2\n",
       "java         4.0     2.5     2.5     1.2\n",
       "php          6.0     5.0     4.0     5.0"
      ]
     },
     "execution_count": 7,
     "metadata": {},
     "output_type": "execute_result"
    }
   ],
   "source": [
    "df"
   ]
  },
  {
   "cell_type": "markdown",
   "metadata": {},
   "source": [
    "Обратитесь к строке \"python\". "
   ]
  },
  {
   "cell_type": "code",
   "execution_count": null,
   "metadata": {
    "collapsed": true
   },
   "outputs": [],
   "source": []
  },
  {
   "cell_type": "markdown",
   "metadata": {},
   "source": [
    "Убрать \"task\" можно следующим образом."
   ]
  },
  {
   "cell_type": "code",
   "execution_count": 8,
   "metadata": {},
   "outputs": [],
   "source": [
    "df.index.name = None"
   ]
  },
  {
   "cell_type": "markdown",
   "metadata": {},
   "source": [
    "Обратитесь к конткретному элементу таблицы. "
   ]
  },
  {
   "cell_type": "code",
   "execution_count": null,
   "metadata": {
    "scrolled": true
   },
   "outputs": [],
   "source": []
  },
  {
   "cell_type": "markdown",
   "metadata": {},
   "source": [
    "Переименуйте столбец group10 в group1"
   ]
  },
  {
   "cell_type": "code",
   "execution_count": null,
   "metadata": {
    "collapsed": true
   },
   "outputs": [],
   "source": []
  },
  {
   "cell_type": "markdown",
   "metadata": {},
   "source": [
    "Сделайте срез из 3й и 4й строки."
   ]
  },
  {
   "cell_type": "code",
   "execution_count": null,
   "metadata": {
    "collapsed": true
   },
   "outputs": [],
   "source": []
  },
  {
   "cell_type": "markdown",
   "metadata": {},
   "source": [
    "Сделайте срез из 2ого и 3его столбов."
   ]
  },
  {
   "cell_type": "code",
   "execution_count": null,
   "metadata": {
    "collapsed": true
   },
   "outputs": [],
   "source": []
  },
  {
   "cell_type": "markdown",
   "metadata": {},
   "source": [
    "Получите все строки, соответствующие отметкам по которым group1 получила оценку выше тройки"
   ]
  },
  {
   "cell_type": "code",
   "execution_count": null,
   "metadata": {
    "collapsed": true
   },
   "outputs": [],
   "source": []
  },
  {
   "cell_type": "markdown",
   "metadata": {},
   "source": [
    "Посчитать среднюю отметку для каждого предмета."
   ]
  },
  {
   "cell_type": "code",
   "execution_count": null,
   "metadata": {
    "collapsed": true
   },
   "outputs": [],
   "source": []
  },
  {
   "cell_type": "markdown",
   "metadata": {},
   "source": [
    "Посчитать среднюю отметку для каждого языка (используйте транспонирование \".T\")."
   ]
  },
  {
   "cell_type": "code",
   "execution_count": null,
   "metadata": {
    "collapsed": true
   },
   "outputs": [],
   "source": []
  },
  {
   "cell_type": "code",
   "execution_count": null,
   "metadata": {
    "collapsed": true
   },
   "outputs": [],
   "source": []
  },
  {
   "cell_type": "markdown",
   "metadata": {},
   "source": [
    "Тоже самое, только используйте направление (axis). "
   ]
  },
  {
   "cell_type": "code",
   "execution_count": null,
   "metadata": {
    "collapsed": true
   },
   "outputs": [],
   "source": []
  },
  {
   "cell_type": "markdown",
   "metadata": {},
   "source": [
    "Найдите min для языков. "
   ]
  },
  {
   "cell_type": "code",
   "execution_count": null,
   "metadata": {
    "collapsed": true
   },
   "outputs": [],
   "source": []
  },
  {
   "cell_type": "markdown",
   "metadata": {},
   "source": [
    "Найдите max для языков. "
   ]
  },
  {
   "cell_type": "code",
   "execution_count": null,
   "metadata": {
    "collapsed": true
   },
   "outputs": [],
   "source": []
  },
  {
   "cell_type": "markdown",
   "metadata": {},
   "source": [
    "Тоже самое с группами."
   ]
  },
  {
   "cell_type": "code",
   "execution_count": null,
   "metadata": {
    "collapsed": true
   },
   "outputs": [],
   "source": []
  },
  {
   "cell_type": "markdown",
   "metadata": {},
   "source": [
    "# Часть 2. Более сложный датафрейм\n"
   ]
  },
  {
   "cell_type": "markdown",
   "metadata": {},
   "source": [
    "Далее будем использовать открытые данные Москвы. "
   ]
  },
  {
   "cell_type": "code",
   "execution_count": 54,
   "metadata": {},
   "outputs": [],
   "source": [
    "df = pd.read_csv(\n",
    "    \"lab6_2.csv\",\n",
    "    sep=';'\n",
    ")"
   ]
  },
  {
   "cell_type": "markdown",
   "metadata": {},
   "source": [
    "Таблица большая, выаедем несколько строк df.head()"
   ]
  },
  {
   "cell_type": "code",
   "execution_count": 55,
   "metadata": {},
   "outputs": [
    {
     "data": {
      "text/html": [
       "<div>\n",
       "<table border=\"1\" class=\"dataframe\">\n",
       "  <thead>\n",
       "    <tr style=\"text-align: right;\">\n",
       "      <th></th>\n",
       "      <th>﻿ROWNUM</th>\n",
       "      <th>Region</th>\n",
       "      <th>TariffItem</th>\n",
       "      <th>UnitOfMeasure</th>\n",
       "      <th>StartDate</th>\n",
       "      <th>EndDate</th>\n",
       "      <th>MeasureDeviceAvail</th>\n",
       "      <th>StoveType</th>\n",
       "      <th>ConsumptionTime</th>\n",
       "      <th>ConsumptionTarget</th>\n",
       "      <th>Agency</th>\n",
       "      <th>TariffValue</th>\n",
       "      <th>global_id</th>\n",
       "      <th>Unnamed: 13</th>\n",
       "    </tr>\n",
       "  </thead>\n",
       "  <tbody>\n",
       "    <tr>\n",
       "      <th>0</th>\n",
       "      <td>1</td>\n",
       "      <td>город Москва (за исключением Троицкого и Новом...</td>\n",
       "      <td>Горячее водоснабжение</td>\n",
       "      <td>руб/куб.м</td>\n",
       "      <td>01.01.2012</td>\n",
       "      <td>30.06.2012</td>\n",
       "      <td>да</td>\n",
       "      <td>NaN</td>\n",
       "      <td>NaN</td>\n",
       "      <td>NaN</td>\n",
       "      <td>ОАО «МОЭК» и иные, кроме ОАО «Мосэнерго» и ОАО...</td>\n",
       "      <td>105.45</td>\n",
       "      <td>19693618</td>\n",
       "      <td>NaN</td>\n",
       "    </tr>\n",
       "    <tr>\n",
       "      <th>1</th>\n",
       "      <td>2</td>\n",
       "      <td>город Москва (за исключением Троицкого и Новом...</td>\n",
       "      <td>Водоотведение</td>\n",
       "      <td>руб/куб.м</td>\n",
       "      <td>01.01.2012</td>\n",
       "      <td>30.06.2012</td>\n",
       "      <td>да</td>\n",
       "      <td>NaN</td>\n",
       "      <td>NaN</td>\n",
       "      <td>NaN</td>\n",
       "      <td>МГУП «Мосводоканал»</td>\n",
       "      <td>16.65</td>\n",
       "      <td>19693667</td>\n",
       "      <td>NaN</td>\n",
       "    </tr>\n",
       "    <tr>\n",
       "      <th>2</th>\n",
       "      <td>3</td>\n",
       "      <td>город Москва (за исключением Троицкого и Новом...</td>\n",
       "      <td>Газ</td>\n",
       "      <td>руб/кв.м</td>\n",
       "      <td>01.07.2012</td>\n",
       "      <td>31.08.2012</td>\n",
       "      <td>нет</td>\n",
       "      <td>NaN</td>\n",
       "      <td>NaN</td>\n",
       "      <td>дома с отоплением от газовых нагревателей</td>\n",
       "      <td>ООО «Газпром межрегионгаз Москва»</td>\n",
       "      <td>25.61</td>\n",
       "      <td>19693682</td>\n",
       "      <td>NaN</td>\n",
       "    </tr>\n",
       "    <tr>\n",
       "      <th>3</th>\n",
       "      <td>4</td>\n",
       "      <td>город Москва (за исключением Троицкого и Новом...</td>\n",
       "      <td>Электроэнергия</td>\n",
       "      <td>руб/кВт.ч</td>\n",
       "      <td>01.07.2012</td>\n",
       "      <td>31.07.2012</td>\n",
       "      <td>да</td>\n",
       "      <td>газовая</td>\n",
       "      <td>с 07:00 по 23:00 ч (двухтарифный учет)</td>\n",
       "      <td>на бытовые нужды</td>\n",
       "      <td>ОАО «Мосэнергосбыт»</td>\n",
       "      <td>4.03</td>\n",
       "      <td>19693607</td>\n",
       "      <td>NaN</td>\n",
       "    </tr>\n",
       "    <tr>\n",
       "      <th>4</th>\n",
       "      <td>5</td>\n",
       "      <td>город Москва (за исключением Троицкого и Новом...</td>\n",
       "      <td>Электроэнергия</td>\n",
       "      <td>руб/кВт.ч</td>\n",
       "      <td>01.01.2012</td>\n",
       "      <td>30.06.2012</td>\n",
       "      <td>да</td>\n",
       "      <td>газовая</td>\n",
       "      <td>с 23:00 по 07:00 ч (двухтарифный учет)</td>\n",
       "      <td>на бытовые нужды</td>\n",
       "      <td>ОАО «Мосэнергосбыт»</td>\n",
       "      <td>0.95</td>\n",
       "      <td>19693669</td>\n",
       "      <td>NaN</td>\n",
       "    </tr>\n",
       "  </tbody>\n",
       "</table>\n",
       "</div>"
      ],
      "text/plain": [
       "   ﻿ROWNUM                                             Region  \\\n",
       "0        1  город Москва (за исключением Троицкого и Новом...   \n",
       "1        2  город Москва (за исключением Троицкого и Новом...   \n",
       "2        3  город Москва (за исключением Троицкого и Новом...   \n",
       "3        4  город Москва (за исключением Троицкого и Новом...   \n",
       "4        5  город Москва (за исключением Троицкого и Новом...   \n",
       "\n",
       "              TariffItem UnitOfMeasure   StartDate     EndDate  \\\n",
       "0  Горячее водоснабжение     руб/куб.м  01.01.2012  30.06.2012   \n",
       "1          Водоотведение     руб/куб.м  01.01.2012  30.06.2012   \n",
       "2                    Газ      руб/кв.м  01.07.2012  31.08.2012   \n",
       "3         Электроэнергия     руб/кВт.ч  01.07.2012  31.07.2012   \n",
       "4         Электроэнергия     руб/кВт.ч  01.01.2012  30.06.2012   \n",
       "\n",
       "  MeasureDeviceAvail StoveType                         ConsumptionTime  \\\n",
       "0                 да       NaN                                     NaN   \n",
       "1                 да       NaN                                     NaN   \n",
       "2                нет       NaN                                     NaN   \n",
       "3                 да   газовая  с 07:00 по 23:00 ч (двухтарифный учет)   \n",
       "4                 да   газовая  с 23:00 по 07:00 ч (двухтарифный учет)   \n",
       "\n",
       "                           ConsumptionTarget  \\\n",
       "0                                        NaN   \n",
       "1                                        NaN   \n",
       "2  дома с отоплением от газовых нагревателей   \n",
       "3                           на бытовые нужды   \n",
       "4                           на бытовые нужды   \n",
       "\n",
       "                                              Agency  TariffValue  global_id  \\\n",
       "0  ОАО «МОЭК» и иные, кроме ОАО «Мосэнерго» и ОАО...       105.45   19693618   \n",
       "1                                МГУП «Мосводоканал»        16.65   19693667   \n",
       "2                  ООО «Газпром межрегионгаз Москва»        25.61   19693682   \n",
       "3                                ОАО «Мосэнергосбыт»         4.03   19693607   \n",
       "4                                ОАО «Мосэнергосбыт»         0.95   19693669   \n",
       "\n",
       "   Unnamed: 13  \n",
       "0          NaN  \n",
       "1          NaN  \n",
       "2          NaN  \n",
       "3          NaN  \n",
       "4          NaN  "
      ]
     },
     "execution_count": 55,
     "metadata": {},
     "output_type": "execute_result"
    }
   ],
   "source": [
    "df.head()"
   ]
  },
  {
   "cell_type": "markdown",
   "metadata": {},
   "source": [
    "Выведите столбец ROWNUM"
   ]
  },
  {
   "cell_type": "code",
   "execution_count": null,
   "metadata": {
    "collapsed": true
   },
   "outputs": [],
   "source": []
  },
  {
   "cell_type": "markdown",
   "metadata": {},
   "source": [
    "Не все так просто. Ответ - нет такого столбца. Но он же есть!"
   ]
  },
  {
   "cell_type": "code",
   "execution_count": null,
   "metadata": {
    "collapsed": true
   },
   "outputs": [],
   "source": []
  },
  {
   "cell_type": "markdown",
   "metadata": {},
   "source": [
    "Воспользуйтесь командой list для вывода столбцов. "
   ]
  },
  {
   "cell_type": "code",
   "execution_count": null,
   "metadata": {
    "collapsed": true
   },
   "outputs": [],
   "source": []
  },
  {
   "cell_type": "markdown",
   "metadata": {},
   "source": [
    "Перед ROWNUM есть невидимый символ, кодирующийся как \\ufeff. Чтобы его не считать, нужно использовать encoding='utf-8-sig'"
   ]
  },
  {
   "cell_type": "code",
   "execution_count": 56,
   "metadata": {},
   "outputs": [],
   "source": [
    "df = pd.read_csv(\n",
    "    \"lab6_2.csv\",\n",
    "    sep=';',\n",
    "    encoding = 'utf-8-sig'\n",
    ")"
   ]
  },
  {
   "cell_type": "markdown",
   "metadata": {},
   "source": [
    "Покажите, что ошибка исправлена (df['ROWNUM'])"
   ]
  },
  {
   "cell_type": "code",
   "execution_count": null,
   "metadata": {
    "collapsed": true
   },
   "outputs": [],
   "source": []
  },
  {
   "cell_type": "markdown",
   "metadata": {},
   "source": [
    "Данных столбец нам в этом виде не понадобится. Сделаейте его индексом строк."
   ]
  },
  {
   "cell_type": "code",
   "execution_count": null,
   "metadata": {
    "collapsed": true
   },
   "outputs": [],
   "source": []
  },
  {
   "cell_type": "markdown",
   "metadata": {},
   "source": [
    "Продемонстрируйте. "
   ]
  },
  {
   "cell_type": "code",
   "execution_count": null,
   "metadata": {
    "collapsed": true
   },
   "outputs": [],
   "source": []
  },
  {
   "cell_type": "markdown",
   "metadata": {},
   "source": [
    " В таблице собраны разные данные: тарифы на электроэнергию, газ т.д. Запишите в q_gas данные за газ. "
   ]
  },
  {
   "cell_type": "code",
   "execution_count": 57,
   "metadata": {},
   "outputs": [
    {
     "data": {
      "text/html": [
       "<div>\n",
       "<table border=\"1\" class=\"dataframe\">\n",
       "  <thead>\n",
       "    <tr style=\"text-align: right;\">\n",
       "      <th></th>\n",
       "      <th>ROWNUM</th>\n",
       "      <th>Region</th>\n",
       "      <th>TariffItem</th>\n",
       "      <th>UnitOfMeasure</th>\n",
       "      <th>StartDate</th>\n",
       "      <th>EndDate</th>\n",
       "      <th>MeasureDeviceAvail</th>\n",
       "      <th>StoveType</th>\n",
       "      <th>ConsumptionTime</th>\n",
       "      <th>ConsumptionTarget</th>\n",
       "      <th>Agency</th>\n",
       "      <th>TariffValue</th>\n",
       "      <th>global_id</th>\n",
       "      <th>Unnamed: 13</th>\n",
       "    </tr>\n",
       "  </thead>\n",
       "  <tbody>\n",
       "    <tr>\n",
       "      <th>2</th>\n",
       "      <td>3</td>\n",
       "      <td>город Москва (за исключением Троицкого и Новом...</td>\n",
       "      <td>Газ</td>\n",
       "      <td>руб/кв.м</td>\n",
       "      <td>01.07.2012</td>\n",
       "      <td>31.08.2012</td>\n",
       "      <td>нет</td>\n",
       "      <td>NaN</td>\n",
       "      <td>NaN</td>\n",
       "      <td>дома с отоплением от газовых нагревателей</td>\n",
       "      <td>ООО «Газпром межрегионгаз Москва»</td>\n",
       "      <td>25.61</td>\n",
       "      <td>19693682</td>\n",
       "      <td>NaN</td>\n",
       "    </tr>\n",
       "    <tr>\n",
       "      <th>6</th>\n",
       "      <td>7</td>\n",
       "      <td>город Москва</td>\n",
       "      <td>Газ</td>\n",
       "      <td>руб/куб.м</td>\n",
       "      <td>11.01.2011</td>\n",
       "      <td>15.01.2012</td>\n",
       "      <td>да</td>\n",
       "      <td>NaN</td>\n",
       "      <td>NaN</td>\n",
       "      <td>на приготовление пищи и горячее водоснабжение ...</td>\n",
       "      <td>ООО «Мосрегионгаз»</td>\n",
       "      <td>4.09</td>\n",
       "      <td>19693595</td>\n",
       "      <td>NaN</td>\n",
       "    </tr>\n",
       "    <tr>\n",
       "      <th>7</th>\n",
       "      <td>8</td>\n",
       "      <td>город Москва (за исключением Троицкого и Новом...</td>\n",
       "      <td>Газ</td>\n",
       "      <td>руб/куб.м</td>\n",
       "      <td>15.01.2012</td>\n",
       "      <td>30.06.2012</td>\n",
       "      <td>да/нет</td>\n",
       "      <td>NaN</td>\n",
       "      <td>NaN</td>\n",
       "      <td>на нагрев воды с использованием газового водон...</td>\n",
       "      <td>ООО «Газпром межрегионгаз Москва»</td>\n",
       "      <td>4.09</td>\n",
       "      <td>19693684</td>\n",
       "      <td>NaN</td>\n",
       "    </tr>\n",
       "    <tr>\n",
       "      <th>10</th>\n",
       "      <td>11</td>\n",
       "      <td>город Москва (за исключением Троицкого и Новом...</td>\n",
       "      <td>Газ</td>\n",
       "      <td>руб/куб.м</td>\n",
       "      <td>01.07.2012</td>\n",
       "      <td>31.12.2012</td>\n",
       "      <td>да/нет</td>\n",
       "      <td>NaN</td>\n",
       "      <td>NaN</td>\n",
       "      <td>на нагрев воды с использованием газового водон...</td>\n",
       "      <td>ООО «Газпром межрегионгаз Москва»</td>\n",
       "      <td>4.70</td>\n",
       "      <td>19693624</td>\n",
       "      <td>NaN</td>\n",
       "    </tr>\n",
       "    <tr>\n",
       "      <th>11</th>\n",
       "      <td>12</td>\n",
       "      <td>город Москва (за исключением Троицкого и Новом...</td>\n",
       "      <td>Газ</td>\n",
       "      <td>руб/1000 куб.м</td>\n",
       "      <td>15.01.2012</td>\n",
       "      <td>30.06.2012</td>\n",
       "      <td>да/нет</td>\n",
       "      <td>NaN</td>\n",
       "      <td>NaN</td>\n",
       "      <td>на отопление с одновременным использованием га...</td>\n",
       "      <td>ООО «Газпром межрегионгаз Москва»</td>\n",
       "      <td>2930.00</td>\n",
       "      <td>19693625</td>\n",
       "      <td>NaN</td>\n",
       "    </tr>\n",
       "  </tbody>\n",
       "</table>\n",
       "</div>"
      ],
      "text/plain": [
       "    ROWNUM                                             Region TariffItem  \\\n",
       "2        3  город Москва (за исключением Троицкого и Новом...        Газ   \n",
       "6        7                                       город Москва        Газ   \n",
       "7        8  город Москва (за исключением Троицкого и Новом...        Газ   \n",
       "10      11  город Москва (за исключением Троицкого и Новом...        Газ   \n",
       "11      12  город Москва (за исключением Троицкого и Новом...        Газ   \n",
       "\n",
       "     UnitOfMeasure   StartDate     EndDate MeasureDeviceAvail StoveType  \\\n",
       "2         руб/кв.м  01.07.2012  31.08.2012                нет       NaN   \n",
       "6        руб/куб.м  11.01.2011  15.01.2012                 да       NaN   \n",
       "7        руб/куб.м  15.01.2012  30.06.2012             да/нет       NaN   \n",
       "10       руб/куб.м  01.07.2012  31.12.2012             да/нет       NaN   \n",
       "11  руб/1000 куб.м  15.01.2012  30.06.2012             да/нет       NaN   \n",
       "\n",
       "   ConsumptionTime                                  ConsumptionTarget  \\\n",
       "2              NaN          дома с отоплением от газовых нагревателей   \n",
       "6              NaN  на приготовление пищи и горячее водоснабжение ...   \n",
       "7              NaN  на нагрев воды с использованием газового водон...   \n",
       "10             NaN  на нагрев воды с использованием газового водон...   \n",
       "11             NaN  на отопление с одновременным использованием га...   \n",
       "\n",
       "                               Agency  TariffValue  global_id  Unnamed: 13  \n",
       "2   ООО «Газпром межрегионгаз Москва»        25.61   19693682          NaN  \n",
       "6                  ООО «Мосрегионгаз»         4.09   19693595          NaN  \n",
       "7   ООО «Газпром межрегионгаз Москва»         4.09   19693684          NaN  \n",
       "10  ООО «Газпром межрегионгаз Москва»         4.70   19693624          NaN  \n",
       "11  ООО «Газпром межрегионгаз Москва»      2930.00   19693625          NaN  "
      ]
     },
     "execution_count": 57,
     "metadata": {},
     "output_type": "execute_result"
    }
   ],
   "source": [
    "q_gas = df[df['TariffItem'] == 'Газ']\n",
    "q_gas.head()"
   ]
  },
  {
   "cell_type": "markdown",
   "metadata": {},
   "source": [
    "Теперь, используя groupby, запишите в groups различные тарифы. Теперь выведите тарифы за Водоотведение."
   ]
  },
  {
   "cell_type": "code",
   "execution_count": 58,
   "metadata": {},
   "outputs": [
    {
     "data": {
      "text/html": [
       "<div>\n",
       "<table border=\"1\" class=\"dataframe\">\n",
       "  <thead>\n",
       "    <tr style=\"text-align: right;\">\n",
       "      <th></th>\n",
       "      <th>ROWNUM</th>\n",
       "      <th>Region</th>\n",
       "      <th>TariffItem</th>\n",
       "      <th>UnitOfMeasure</th>\n",
       "      <th>StartDate</th>\n",
       "      <th>EndDate</th>\n",
       "      <th>MeasureDeviceAvail</th>\n",
       "      <th>StoveType</th>\n",
       "      <th>ConsumptionTime</th>\n",
       "      <th>ConsumptionTarget</th>\n",
       "      <th>Agency</th>\n",
       "      <th>TariffValue</th>\n",
       "      <th>global_id</th>\n",
       "      <th>Unnamed: 13</th>\n",
       "    </tr>\n",
       "  </thead>\n",
       "  <tbody>\n",
       "    <tr>\n",
       "      <th>2</th>\n",
       "      <td>3</td>\n",
       "      <td>город Москва (за исключением Троицкого и Новом...</td>\n",
       "      <td>Газ</td>\n",
       "      <td>руб/кв.м</td>\n",
       "      <td>01.07.2012</td>\n",
       "      <td>31.08.2012</td>\n",
       "      <td>нет</td>\n",
       "      <td>NaN</td>\n",
       "      <td>NaN</td>\n",
       "      <td>дома с отоплением от газовых нагревателей</td>\n",
       "      <td>ООО «Газпром межрегионгаз Москва»</td>\n",
       "      <td>25.61</td>\n",
       "      <td>19693682</td>\n",
       "      <td>NaN</td>\n",
       "    </tr>\n",
       "    <tr>\n",
       "      <th>6</th>\n",
       "      <td>7</td>\n",
       "      <td>город Москва</td>\n",
       "      <td>Газ</td>\n",
       "      <td>руб/куб.м</td>\n",
       "      <td>11.01.2011</td>\n",
       "      <td>15.01.2012</td>\n",
       "      <td>да</td>\n",
       "      <td>NaN</td>\n",
       "      <td>NaN</td>\n",
       "      <td>на приготовление пищи и горячее водоснабжение ...</td>\n",
       "      <td>ООО «Мосрегионгаз»</td>\n",
       "      <td>4.09</td>\n",
       "      <td>19693595</td>\n",
       "      <td>NaN</td>\n",
       "    </tr>\n",
       "    <tr>\n",
       "      <th>7</th>\n",
       "      <td>8</td>\n",
       "      <td>город Москва (за исключением Троицкого и Новом...</td>\n",
       "      <td>Газ</td>\n",
       "      <td>руб/куб.м</td>\n",
       "      <td>15.01.2012</td>\n",
       "      <td>30.06.2012</td>\n",
       "      <td>да/нет</td>\n",
       "      <td>NaN</td>\n",
       "      <td>NaN</td>\n",
       "      <td>на нагрев воды с использованием газового водон...</td>\n",
       "      <td>ООО «Газпром межрегионгаз Москва»</td>\n",
       "      <td>4.09</td>\n",
       "      <td>19693684</td>\n",
       "      <td>NaN</td>\n",
       "    </tr>\n",
       "    <tr>\n",
       "      <th>10</th>\n",
       "      <td>11</td>\n",
       "      <td>город Москва (за исключением Троицкого и Новом...</td>\n",
       "      <td>Газ</td>\n",
       "      <td>руб/куб.м</td>\n",
       "      <td>01.07.2012</td>\n",
       "      <td>31.12.2012</td>\n",
       "      <td>да/нет</td>\n",
       "      <td>NaN</td>\n",
       "      <td>NaN</td>\n",
       "      <td>на нагрев воды с использованием газового водон...</td>\n",
       "      <td>ООО «Газпром межрегионгаз Москва»</td>\n",
       "      <td>4.70</td>\n",
       "      <td>19693624</td>\n",
       "      <td>NaN</td>\n",
       "    </tr>\n",
       "    <tr>\n",
       "      <th>11</th>\n",
       "      <td>12</td>\n",
       "      <td>город Москва (за исключением Троицкого и Новом...</td>\n",
       "      <td>Газ</td>\n",
       "      <td>руб/1000 куб.м</td>\n",
       "      <td>15.01.2012</td>\n",
       "      <td>30.06.2012</td>\n",
       "      <td>да/нет</td>\n",
       "      <td>NaN</td>\n",
       "      <td>NaN</td>\n",
       "      <td>на отопление с одновременным использованием га...</td>\n",
       "      <td>ООО «Газпром межрегионгаз Москва»</td>\n",
       "      <td>2930.00</td>\n",
       "      <td>19693625</td>\n",
       "      <td>NaN</td>\n",
       "    </tr>\n",
       "  </tbody>\n",
       "</table>\n",
       "</div>"
      ],
      "text/plain": [
       "    ROWNUM                                             Region TariffItem  \\\n",
       "2        3  город Москва (за исключением Троицкого и Новом...        Газ   \n",
       "6        7                                       город Москва        Газ   \n",
       "7        8  город Москва (за исключением Троицкого и Новом...        Газ   \n",
       "10      11  город Москва (за исключением Троицкого и Новом...        Газ   \n",
       "11      12  город Москва (за исключением Троицкого и Новом...        Газ   \n",
       "\n",
       "     UnitOfMeasure   StartDate     EndDate MeasureDeviceAvail StoveType  \\\n",
       "2         руб/кв.м  01.07.2012  31.08.2012                нет       NaN   \n",
       "6        руб/куб.м  11.01.2011  15.01.2012                 да       NaN   \n",
       "7        руб/куб.м  15.01.2012  30.06.2012             да/нет       NaN   \n",
       "10       руб/куб.м  01.07.2012  31.12.2012             да/нет       NaN   \n",
       "11  руб/1000 куб.м  15.01.2012  30.06.2012             да/нет       NaN   \n",
       "\n",
       "   ConsumptionTime                                  ConsumptionTarget  \\\n",
       "2              NaN          дома с отоплением от газовых нагревателей   \n",
       "6              NaN  на приготовление пищи и горячее водоснабжение ...   \n",
       "7              NaN  на нагрев воды с использованием газового водон...   \n",
       "10             NaN  на нагрев воды с использованием газового водон...   \n",
       "11             NaN  на отопление с одновременным использованием га...   \n",
       "\n",
       "                               Agency  TariffValue  global_id  Unnamed: 13  \n",
       "2   ООО «Газпром межрегионгаз Москва»        25.61   19693682          NaN  \n",
       "6                  ООО «Мосрегионгаз»         4.09   19693595          NaN  \n",
       "7   ООО «Газпром межрегионгаз Москва»         4.09   19693684          NaN  \n",
       "10  ООО «Газпром межрегионгаз Москва»         4.70   19693624          NaN  \n",
       "11  ООО «Газпром межрегионгаз Москва»      2930.00   19693625          NaN  "
      ]
     },
     "execution_count": 58,
     "metadata": {},
     "output_type": "execute_result"
    }
   ],
   "source": [
    "groups = df.groupby('TariffItem')\n",
    "groups.get_group('Газ').head()"
   ]
  },
  {
   "cell_type": "markdown",
   "metadata": {},
   "source": [
    "Выведите список групп."
   ]
  },
  {
   "cell_type": "code",
   "execution_count": 59,
   "metadata": {},
   "outputs": [
    {
     "data": {
      "text/plain": [
       "dict_keys(['Твердое топливо', 'Горячее водоснабжение', 'Электроэнергия', 'Холодное водоснабжение', 'Газ', 'Водоотведение', 'Отопление'])"
      ]
     },
     "execution_count": 59,
     "metadata": {},
     "output_type": "execute_result"
    }
   ],
   "source": [
    "groups.groups.keys()"
   ]
  },
  {
   "cell_type": "markdown",
   "metadata": {},
   "source": [
    "Посчитайте средние тарифы. "
   ]
  },
  {
   "cell_type": "code",
   "execution_count": 60,
   "metadata": {},
   "outputs": [
    {
     "data": {
      "text/html": [
       "<div>\n",
       "<table border=\"1\" class=\"dataframe\">\n",
       "  <thead>\n",
       "    <tr style=\"text-align: right;\">\n",
       "      <th></th>\n",
       "      <th>ROWNUM</th>\n",
       "      <th>TariffValue</th>\n",
       "      <th>global_id</th>\n",
       "      <th>Unnamed: 13</th>\n",
       "    </tr>\n",
       "    <tr>\n",
       "      <th>TariffItem</th>\n",
       "      <th></th>\n",
       "      <th></th>\n",
       "      <th></th>\n",
       "      <th></th>\n",
       "    </tr>\n",
       "  </thead>\n",
       "  <tbody>\n",
       "    <tr>\n",
       "      <th>Водоотведение</th>\n",
       "      <td>24.000000</td>\n",
       "      <td>17.950000</td>\n",
       "      <td>1.969357e+07</td>\n",
       "      <td>NaN</td>\n",
       "    </tr>\n",
       "    <tr>\n",
       "      <th>Газ</th>\n",
       "      <td>32.050000</td>\n",
       "      <td>651.415000</td>\n",
       "      <td>1.969359e+07</td>\n",
       "      <td>NaN</td>\n",
       "    </tr>\n",
       "    <tr>\n",
       "      <th>Горячее водоснабжение</th>\n",
       "      <td>26.833333</td>\n",
       "      <td>100.095000</td>\n",
       "      <td>1.969352e+07</td>\n",
       "      <td>NaN</td>\n",
       "    </tr>\n",
       "    <tr>\n",
       "      <th>Отопление</th>\n",
       "      <td>42.666667</td>\n",
       "      <td>1208.423333</td>\n",
       "      <td>1.969363e+07</td>\n",
       "      <td>NaN</td>\n",
       "    </tr>\n",
       "    <tr>\n",
       "      <th>Твердое топливо</th>\n",
       "      <td>53.000000</td>\n",
       "      <td>1126.000000</td>\n",
       "      <td>1.969363e+07</td>\n",
       "      <td>NaN</td>\n",
       "    </tr>\n",
       "    <tr>\n",
       "      <th>Холодное водоснабжение</th>\n",
       "      <td>59.666667</td>\n",
       "      <td>25.223333</td>\n",
       "      <td>1.969364e+07</td>\n",
       "      <td>NaN</td>\n",
       "    </tr>\n",
       "    <tr>\n",
       "      <th>Электроэнергия</th>\n",
       "      <td>37.312500</td>\n",
       "      <td>2.571250</td>\n",
       "      <td>1.969359e+07</td>\n",
       "      <td>NaN</td>\n",
       "    </tr>\n",
       "  </tbody>\n",
       "</table>\n",
       "</div>"
      ],
      "text/plain": [
       "                           ROWNUM  TariffValue     global_id  Unnamed: 13\n",
       "TariffItem                                                               \n",
       "Водоотведение           24.000000    17.950000  1.969357e+07          NaN\n",
       "Газ                     32.050000   651.415000  1.969359e+07          NaN\n",
       "Горячее водоснабжение   26.833333   100.095000  1.969352e+07          NaN\n",
       "Отопление               42.666667  1208.423333  1.969363e+07          NaN\n",
       "Твердое топливо         53.000000  1126.000000  1.969363e+07          NaN\n",
       "Холодное водоснабжение  59.666667    25.223333  1.969364e+07          NaN\n",
       "Электроэнергия          37.312500     2.571250  1.969359e+07          NaN"
      ]
     },
     "execution_count": 60,
     "metadata": {},
     "output_type": "execute_result"
    }
   ],
   "source": [
    "df.groupby('TariffItem').mean()"
   ]
  },
  {
   "cell_type": "markdown",
   "metadata": {},
   "source": [
    "Далее приведем в порядок тарифы за газ. Вычислите кол-во различных UnitOfMeasure (единица измерения)."
   ]
  },
  {
   "cell_type": "code",
   "execution_count": 61,
   "metadata": {},
   "outputs": [
    {
     "data": {
      "text/plain": [
       "руб/куб.м         8\n",
       "руб/чел           6\n",
       "руб/1000 куб.м    4\n",
       "руб/кв.м          2\n",
       "Name: UnitOfMeasure, dtype: int64"
      ]
     },
     "execution_count": 61,
     "metadata": {},
     "output_type": "execute_result"
    }
   ],
   "source": [
    "q_gas['UnitOfMeasure'].value_counts() "
   ]
  },
  {
   "cell_type": "markdown",
   "metadata": {},
   "source": [
    "Замените руб/кв.м на руб/куб.м (это ошибка)."
   ]
  },
  {
   "cell_type": "code",
   "execution_count": 63,
   "metadata": {},
   "outputs": [
    {
     "data": {
      "text/html": [
       "<div>\n",
       "<table border=\"1\" class=\"dataframe\">\n",
       "  <thead>\n",
       "    <tr style=\"text-align: right;\">\n",
       "      <th></th>\n",
       "      <th>ROWNUM</th>\n",
       "      <th>Region</th>\n",
       "      <th>TariffItem</th>\n",
       "      <th>UnitOfMeasure</th>\n",
       "      <th>StartDate</th>\n",
       "      <th>EndDate</th>\n",
       "      <th>MeasureDeviceAvail</th>\n",
       "      <th>StoveType</th>\n",
       "      <th>ConsumptionTime</th>\n",
       "      <th>ConsumptionTarget</th>\n",
       "      <th>Agency</th>\n",
       "      <th>TariffValue</th>\n",
       "      <th>global_id</th>\n",
       "      <th>Unnamed: 13</th>\n",
       "    </tr>\n",
       "  </thead>\n",
       "  <tbody>\n",
       "    <tr>\n",
       "      <th>2</th>\n",
       "      <td>3</td>\n",
       "      <td>город Москва (за исключением Троицкого и Новом...</td>\n",
       "      <td>Газ</td>\n",
       "      <td>руб/кв.м</td>\n",
       "      <td>01.07.2012</td>\n",
       "      <td>31.08.2012</td>\n",
       "      <td>нет</td>\n",
       "      <td>NaN</td>\n",
       "      <td>NaN</td>\n",
       "      <td>дома с отоплением от газовых нагревателей</td>\n",
       "      <td>ООО «Газпром межрегионгаз Москва»</td>\n",
       "      <td>25.61</td>\n",
       "      <td>19693682</td>\n",
       "      <td>NaN</td>\n",
       "    </tr>\n",
       "    <tr>\n",
       "      <th>51</th>\n",
       "      <td>52</td>\n",
       "      <td>город Москва (за исключением Троицкого и Новом...</td>\n",
       "      <td>Газ</td>\n",
       "      <td>руб/кв.м</td>\n",
       "      <td>01.01.2012</td>\n",
       "      <td>30.06.2012</td>\n",
       "      <td>нет</td>\n",
       "      <td>NaN</td>\n",
       "      <td>NaN</td>\n",
       "      <td>дома с отоплением от газовых нагревателей</td>\n",
       "      <td>ООО «Газпром межрегионгаз Москва»</td>\n",
       "      <td>22.27</td>\n",
       "      <td>19693622</td>\n",
       "      <td>NaN</td>\n",
       "    </tr>\n",
       "  </tbody>\n",
       "</table>\n",
       "</div>"
      ],
      "text/plain": [
       "    ROWNUM                                             Region TariffItem  \\\n",
       "2        3  город Москва (за исключением Троицкого и Новом...        Газ   \n",
       "51      52  город Москва (за исключением Троицкого и Новом...        Газ   \n",
       "\n",
       "   UnitOfMeasure   StartDate     EndDate MeasureDeviceAvail StoveType  \\\n",
       "2       руб/кв.м  01.07.2012  31.08.2012                нет       NaN   \n",
       "51      руб/кв.м  01.01.2012  30.06.2012                нет       NaN   \n",
       "\n",
       "   ConsumptionTime                          ConsumptionTarget  \\\n",
       "2              NaN  дома с отоплением от газовых нагревателей   \n",
       "51             NaN  дома с отоплением от газовых нагревателей   \n",
       "\n",
       "                               Agency  TariffValue  global_id  Unnamed: 13  \n",
       "2   ООО «Газпром межрегионгаз Москва»        25.61   19693682          NaN  \n",
       "51  ООО «Газпром межрегионгаз Москва»        22.27   19693622          NaN  "
      ]
     },
     "execution_count": 63,
     "metadata": {},
     "output_type": "execute_result"
    }
   ],
   "source": [
    "qkvm = q_gas['UnitOfMeasure'] == 'руб/кв.м'\n",
    "q_gas[qkvm]"
   ]
  },
  {
   "cell_type": "code",
   "execution_count": 66,
   "metadata": {},
   "outputs": [
    {
     "data": {
      "text/plain": [
       "руб/куб.м         10\n",
       "руб/чел            6\n",
       "руб/1000 куб.м     4\n",
       "Name: UnitOfMeasure, dtype: int64"
      ]
     },
     "execution_count": 66,
     "metadata": {},
     "output_type": "execute_result"
    }
   ],
   "source": [
    "q_gas = q_gas.copy()\n",
    "q_gas.loc[qkvm, 'UnitOfMeasure'] = \"руб/куб.м\"\n",
    "q_gas['UnitOfMeasure'].value_counts() "
   ]
  },
  {
   "cell_type": "markdown",
   "metadata": {},
   "source": [
    "Все значения в строках где руб/1000 куб.м умножьте на 1000. "
   ]
  },
  {
   "cell_type": "code",
   "execution_count": null,
   "metadata": {
    "collapsed": true
   },
   "outputs": [],
   "source": []
  },
  {
   "cell_type": "markdown",
   "metadata": {},
   "source": [
    "Измените единицу измерения на руб/куб.м."
   ]
  },
  {
   "cell_type": "code",
   "execution_count": null,
   "metadata": {
    "collapsed": true
   },
   "outputs": [],
   "source": []
  },
  {
   "cell_type": "markdown",
   "metadata": {},
   "source": [
    "Повторно пересчитайте тарифы. Строк с \"руб/куб.м\" должно быть 12. "
   ]
  },
  {
   "cell_type": "code",
   "execution_count": null,
   "metadata": {
    "collapsed": true
   },
   "outputs": [],
   "source": []
  },
  {
   "cell_type": "markdown",
   "metadata": {},
   "source": [
    "Для всех таких строк вызовите метод describe()."
   ]
  },
  {
   "cell_type": "code",
   "execution_count": null,
   "metadata": {
    "collapsed": true
   },
   "outputs": [],
   "source": []
  },
  {
   "cell_type": "markdown",
   "metadata": {},
   "source": [
    "# Часть 3. Более сложные запросы"
   ]
  },
  {
   "cell_type": "markdown",
   "metadata": {},
   "source": [
    "Из исходной таблицы сделайте выборку тех строк, в которых в качестве единицы измерения указаны руб/кв.м и указан тариф на газ."
   ]
  },
  {
   "cell_type": "code",
   "execution_count": null,
   "metadata": {
    "collapsed": true
   },
   "outputs": [],
   "source": []
  },
  {
   "cell_type": "markdown",
   "metadata": {},
   "source": [
    "Сделайте такой же запрос через query."
   ]
  },
  {
   "cell_type": "code",
   "execution_count": null,
   "metadata": {
    "collapsed": true
   },
   "outputs": [],
   "source": []
  },
  {
   "cell_type": "markdown",
   "metadata": {},
   "source": [
    "Далее использовать будем открытые данные Москвы за 2016 год. Используйте для этого файл tariff.json. Преобразуйте в необходимый формат. "
   ]
  },
  {
   "cell_type": "code",
   "execution_count": null,
   "metadata": {
    "collapsed": true
   },
   "outputs": [],
   "source": []
  },
  {
   "cell_type": "markdown",
   "metadata": {},
   "source": [
    "Вычислите средний тарифф. "
   ]
  },
  {
   "cell_type": "code",
   "execution_count": null,
   "metadata": {
    "collapsed": true
   },
   "outputs": [],
   "source": []
  },
  {
   "cell_type": "markdown",
   "metadata": {},
   "source": [
    "Придумайте себе два запроса и реализуйте их ниже. "
   ]
  },
  {
   "cell_type": "code",
   "execution_count": null,
   "metadata": {
    "collapsed": true
   },
   "outputs": [],
   "source": []
  },
  {
   "cell_type": "code",
   "execution_count": null,
   "metadata": {
    "collapsed": true
   },
   "outputs": [],
   "source": []
  }
 ],
 "metadata": {
  "kernelspec": {
   "display_name": "Python 3",
   "language": "python",
   "name": "python3"
  },
  "language_info": {
   "codemirror_mode": {
    "name": "ipython",
    "version": 3
   },
   "file_extension": ".py",
   "mimetype": "text/x-python",
   "name": "python",
   "nbconvert_exporter": "python",
   "pygments_lexer": "ipython3",
   "version": "3.8.3"
  }
 },
 "nbformat": 4,
 "nbformat_minor": 1
}
