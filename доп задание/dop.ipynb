{
 "cells": [
  {
   "cell_type": "markdown",
   "metadata": {},
   "source": [
    "# Дополнительное задание"
   ]
  },
  {
   "cell_type": "markdown",
   "metadata": {},
   "source": [
    "### Библиотеки\n",
    "Во всех задачах можно использовать библиотеки `requests` и `BeautifulSoup` (`bs4`)."
   ]
  },
  {
   "cell_type": "markdown",
   "metadata": {},
   "source": [
    "### Задача 1\n",
    "Написать функцию `get_news(url)`, принимающую на вход адрес веб-страницы `url`, загружающую эту веб-страницу и проверяющую, встречается ли в ней слово `Harry` (с большой буквы). Функция должна возвращать `True`, если встречается, и `False` в противном случае. Также функция должна возвращать `False`, если страницу не удалось открыть (например, была получена ошибка *404 Not Found*.)"
   ]
  },
  {
   "cell_type": "code",
   "execution_count": 12,
   "metadata": {
    "deletable": false,
    "nbgrader": {
     "checksum": "06e99e37531223f4a5bec3177853393b",
     "grade": false,
     "grade_id": "pr_1",
     "locked": false,
     "solution": true
    }
   },
   "outputs": [
    {
     "name": "stdout",
     "output_type": "stream",
     "text": [
      "True\n",
      "True\n",
      "False\n"
     ]
    }
   ],
   "source": [
    "from bs4 import BeautifulSoup        \n",
    "import re\n",
    "import requests\n",
    "def get_news(url):\n",
    "    try:\n",
    "        page = requests.get(url,timeout=5)\n",
    "        con = BeautifulSoup(page.content)\n",
    "        \n",
    "    except requests.exceptions.HTTPError:\n",
    "        return False\n",
    "    else:\n",
    "        for i in con.find_all():\n",
    "            if (\"Harry\" in i.text):\n",
    "                return True\n",
    "        return False\n",
    "\n",
    "print (get_news(\"https://en.wikipedia.org/w/index.php?title=J._K._Rowling&oldid=694008857\"))\n",
    "print (get_news(\"https://en.wikipedia.org/w/index.php?title=Star_Wars&oldid=694701430\"))\n",
    "print (get_news(\"https://en.wikipedia.org/w/index.php?title=Darth_Vader&oldid=694617684\"))"
   ]
  },
  {
   "cell_type": "code",
   "execution_count": 13,
   "metadata": {
    "deletable": false,
    "nbgrader": {
     "checksum": "208bdfaa408997e34f1f223f654d9c4d",
     "grade": true,
     "grade_id": "pr_1_1",
     "locked": true,
     "points": 1,
     "solution": false
    },
    "scrolled": false
   },
   "outputs": [],
   "source": [
    "assert get_news(\"https://en.wikipedia.org/w/index.php?title=J._K._Rowling&oldid=694008857\")\n",
    "assert get_news(\"https://en.wikipedia.org/w/index.php?title=Star_Wars&oldid=694701430\")\n",
    "assert not get_news(\"https://en.wikipedia.org/w/index.php?title=Darth_Vader&oldid=694617684\")"
   ]
  },
  {
   "cell_type": "code",
   "execution_count": 14,
   "metadata": {
    "deletable": false,
    "nbgrader": {
     "checksum": "b91325c0d076c557b501a08637b82386",
     "grade": true,
     "grade_id": "pr_1_2",
     "locked": true,
     "points": 1,
     "solution": false
    }
   },
   "outputs": [
    {
     "name": "stdout",
     "output_type": "stream",
     "text": [
      "False\n"
     ]
    }
   ],
   "source": [
    "print (get_news(\"http://math-info.hse.ru/there_is_no_Harry_here\"))"
   ]
  },
  {
   "cell_type": "markdown",
   "metadata": {},
   "source": [
    "### Задача 2\n",
    "Написать функцию `get_strong(html)`, принимающую на вход html-страницу в виде длинной строки, записанной в переменную `html`, и возвращающую строчку, содержащуюся в первом теге `strong`.\n",
    "\n",
    "Примеры см. в тестах.\n",
    "\n",
    "**Подсказка.** Вы можете создать объект `BeautifulSoup`."
   ]
  },
  {
   "cell_type": "code",
   "execution_count": 1,
   "metadata": {
    "deletable": false,
    "nbgrader": {
     "checksum": "1f4333fd8a103a40ccd724d7e920196b",
     "grade": false,
     "grade_id": "pr_2",
     "locked": false,
     "solution": true
    }
   },
   "outputs": [
    {
     "name": "stdout",
     "output_type": "stream",
     "text": [
      "World\n",
      "World\n",
      "stronger\n",
      "One\n",
      "Two\n"
     ]
    }
   ],
   "source": [
    "from bs4 import BeautifulSoup\n",
    "import re\n",
    "def get_strong(html):\n",
    "    con = BeautifulSoup(html)\n",
    "    for i in con.find_all(\"strong\"):\n",
    "        return i.text\n",
    "    \n",
    "    \n",
    "print (get_strong(\"<html><body><p>Hello, <strong>World</strong>!\")) #\"World\"\n",
    "html = \"\"\"<html>\n",
    "    <body>\n",
    "        <p>\n",
    "            Hello,\n",
    "            <strong>\n",
    "                World\n",
    "            </strong>\n",
    "        </p>\n",
    "    </body>\n",
    "</html>\"\"\"\n",
    "    \n",
    "print (get_strong(html).strip()) #\"World\"\n",
    "print (get_strong(\"<html><body><p>tag &lt;strong&gt; is used in HTML\\n to make letters <strong>stronger</strong>\")) #\"stronger\"\n",
    "print (get_strong(\"<html><body><strong>One\\nTwo</strong></body></html>\")) #\"One\\nTwo\""
   ]
  },
  {
   "cell_type": "code",
   "execution_count": 9,
   "metadata": {
    "deletable": false,
    "nbgrader": {
     "checksum": "38ecff3e138a37d667633b3398b51448",
     "grade": true,
     "grade_id": "pr_2_2",
     "locked": true,
     "points": 1,
     "solution": false
    }
   },
   "outputs": [],
   "source": [
    "assert get_strong(\"<html><body><p>Hello, <strong>World</strong>!\") == \"World\"\n",
    "html = \"\"\"<html>\n",
    "    <body>\n",
    "        <p>\n",
    "            Hello,\n",
    "            <strong>\n",
    "                World\n",
    "            </strong>\n",
    "        </p>\n",
    "    </body>\n",
    "</html>\"\"\"\n",
    "assert get_strong(html).strip() == \"World\"\n",
    "assert get_strong(\"<html><body><p>tag &lt;strong&gt; is used in HTML\\n to make letters <strong>stronger</strong>\") == \"stronger\"\n",
    "assert get_strong(\"<html><body><strong>One\\nTwo</strong></body></html>\") == \"One\\nTwo\""
   ]
  },
  {
   "cell_type": "markdown",
   "metadata": {},
   "source": [
    "### Задача 3\n",
    "Для вставки картинок в HTML используется тег `<img>`, содержащий параметр `src` — адрес файла с картинкой. Например, `<img src=\"https://upload.wikimedia.org/wikipedia/commons/b/bd/Struthio_camelus_portrait_Whipsnade_Zoo.jpg\"/>`. Написать функцию `all_images_src(html)`, принимающую на вход длинную строчку с HTML-документом, а возвращающую список адресов всех картинок, встречающихся в этом документе (в том порядке, в котором они встречаются в документе)."
   ]
  },
  {
   "cell_type": "code",
   "execution_count": null,
   "metadata": {
    "deletable": false,
    "nbgrader": {
     "checksum": "148c01d925f6070802007d7eda423912",
     "grade": false,
     "grade_id": "pr_3",
     "locked": false,
     "solution": true
    }
   },
   "outputs": [],
   "source": [
    "from bs4 import BeautifulSoup\n",
    "import re\n",
    "def all_images_src(html):\n",
    "    cont = BeautifulSoup(html)\n",
    "    array = cont.find_all(\"img\", src = True)\n",
    "    real_array = []\n",
    "    for i in array:\n",
    "        i = str(i)        \n",
    "        i = re.search(r'src=(.+\\.jpg)|(.+\\.png)', i)   \n",
    "        i = i.group(0)\n",
    "        i=re.sub(\".*=\\\"\", \"\", i)\n",
    "        real_array.append(i)\n",
    "    return real_array\n",
    "\n",
    "\n",
    "print(all_images_src('<html><body><img src=\"https://upload.wikimedia.org/wikipedia/commons/b/bd/Struthio_camelus_portrait_Whipsnade_Zoo.jpg\"/>'))\n",
    "print (all_images_src('<html><body><IMG src=\"test.jpg\">\\n'\n",
    "                        '<p>Some text\\n'\n",
    "                        '<img SRC=\\'well.png\\'>\\n'\n",
    "                        '</p></body></html>'))\n",
    "print (all_images_src('<html><body><p><a href=\"link.html\">'\n",
    "                      '<img alt=\"Just a test image\" src=\"this is a test.jpg\"><ul>' + \"\\n\"\n",
    "                      .join(\"<li><img src='img%04i.png'></li>\" % i for i in range(1000)) + \n",
    "                      \"</ul></p></body></html>\"))\n"
   ]
  },
  {
   "cell_type": "code",
   "execution_count": null,
   "metadata": {
    "deletable": false,
    "nbgrader": {
     "checksum": "4a5f42498bed88531a56ed2725f35447",
     "grade": true,
     "grade_id": "pr_3_t",
     "locked": true,
     "points": 1,
     "solution": false
    }
   },
   "outputs": [],
   "source": [
    "assert all_images_src('<html><body><img src=\"https://upload.wikimedia.org/wikipedia/commons/b/bd/Struthio_camelus_portrait_Whipsnade_Zoo.jpg\"/>') == [\"https://upload.wikimedia.org/wikipedia/commons/b/bd/Struthio_camelus_portrait_Whipsnade_Zoo.jpg\"]\n",
    "assert all_images_src( ('<html><body><IMG src=\"test.jpg\">\\n'\n",
    "                        '<p>Some text\\n'\n",
    "                        '<img SRC=\\'well.png\\'>\\n'\n",
    "                        '</p></body></html>') ) == [\"test.jpg\", \"well.png\"]\n",
    "assert all_images_src('<html><body><p><a href=\"link.html\">'\n",
    "                      '<img alt=\"Just a test image\" src=\"this is a test.jpg\"><ul>' + \"\\n\"\n",
    "                      .join(\"<li><img src='img%04i.png'></li>\" % i for i in range(1000)) + \n",
    "                      \"</ul></p></body></html>\"\n",
    "                     ) == ['this is a test.jpg'] + ['img%04i.png' % i for i in range(1000)]"
   ]
  },
  {
   "cell_type": "code",
   "execution_count": null,
   "metadata": {
    "deletable": false,
    "nbgrader": {
     "checksum": "fd6e3f0870bd33b6b251c44398cd1d15",
     "grade": false,
     "grade_id": "pr_4",
     "locked": false,
     "solution": true
    }
   },
   "outputs": [],
   "source": []
  },
  {
   "cell_type": "code",
   "execution_count": null,
   "metadata": {
    "deletable": false,
    "nbgrader": {
     "checksum": "acceb082acb8aac95855c7e052b86f98",
     "grade": true,
     "grade_id": "pr_4_t",
     "locked": true,
     "points": 2,
     "solution": false
    }
   },
   "outputs": [],
   "source": []
  },
  {
   "cell_type": "code",
   "execution_count": null,
   "metadata": {
    "deletable": false,
    "nbgrader": {
     "checksum": "5cf4041787597944249f522b76ca99ee",
     "grade": false,
     "grade_id": "pr_5",
     "locked": false,
     "solution": true
    }
   },
   "outputs": [],
   "source": []
  },
  {
   "cell_type": "code",
   "execution_count": null,
   "metadata": {
    "deletable": false,
    "nbgrader": {
     "checksum": "2d1d6fa36a253e07aa3560d767fb2f1d",
     "grade": true,
     "grade_id": "pr_5_1",
     "locked": true,
     "points": 4,
     "solution": false
    }
   },
   "outputs": [],
   "source": []
  },
  {
   "cell_type": "code",
   "execution_count": null,
   "metadata": {},
   "outputs": [],
   "source": []
  }
 ],
 "metadata": {
  "kernelspec": {
   "display_name": "Python 3",
   "language": "python",
   "name": "python3"
  },
  "language_info": {
   "codemirror_mode": {
    "name": "ipython",
    "version": 3
   },
   "file_extension": ".py",
   "mimetype": "text/x-python",
   "name": "python",
   "nbconvert_exporter": "python",
   "pygments_lexer": "ipython3",
   "version": "3.8.3"
  }
 },
 "nbformat": 4,
 "nbformat_minor": 1
}
